{
 "cells": [
  {
   "cell_type": "code",
   "execution_count": 1,
   "metadata": {},
   "outputs": [
    {
     "name": "stdout",
     "output_type": "stream",
     "text": [
      "Collecting sklearn_crfsuite\n",
      "  Downloading sklearn_crfsuite-0.3.6-py2.py3-none-any.whl.metadata (3.8 kB)\n",
      "Collecting python-crfsuite>=0.8.3 (from sklearn_crfsuite)\n",
      "  Downloading python_crfsuite-0.9.10-cp311-cp311-win_amd64.whl.metadata (4.3 kB)\n",
      "Requirement already satisfied: six in c:\\users\\kiit0001\\anaconda3\\envs\\new_env\\lib\\site-packages (from sklearn_crfsuite) (1.16.0)\n",
      "Collecting tabulate (from sklearn_crfsuite)\n",
      "  Downloading tabulate-0.9.0-py3-none-any.whl.metadata (34 kB)\n",
      "Requirement already satisfied: tqdm>=2.0 in c:\\users\\kiit0001\\anaconda3\\envs\\new_env\\lib\\site-packages (from sklearn_crfsuite) (4.66.4)\n",
      "Requirement already satisfied: colorama in c:\\users\\kiit0001\\anaconda3\\envs\\new_env\\lib\\site-packages (from tqdm>=2.0->sklearn_crfsuite) (0.4.6)\n",
      "Downloading sklearn_crfsuite-0.3.6-py2.py3-none-any.whl (12 kB)\n",
      "Downloading python_crfsuite-0.9.10-cp311-cp311-win_amd64.whl (155 kB)\n",
      "   ---------------------------------------- 0.0/155.8 kB ? eta -:--:--\n",
      "   -- ------------------------------------- 10.2/155.8 kB ? eta -:--:--\n",
      "   ------- -------------------------------- 30.7/155.8 kB 1.4 MB/s eta 0:00:01\n",
      "   ---------- ---------------------------- 41.0/155.8 kB 495.5 kB/s eta 0:00:01\n",
      "   -------------------- ------------------ 81.9/155.8 kB 573.4 kB/s eta 0:00:01\n",
      "   -------------------- ------------------ 81.9/155.8 kB 573.4 kB/s eta 0:00:01\n",
      "   --------------------------- ---------- 112.6/155.8 kB 437.6 kB/s eta 0:00:01\n",
      "   ----------------------------- -------- 122.9/155.8 kB 450.6 kB/s eta 0:00:01\n",
      "   -------------------------------------  153.6/155.8 kB 459.5 kB/s eta 0:00:01\n",
      "   -------------------------------------- 155.8/155.8 kB 424.4 kB/s eta 0:00:00\n",
      "Downloading tabulate-0.9.0-py3-none-any.whl (35 kB)\n",
      "Installing collected packages: python-crfsuite, tabulate, sklearn_crfsuite\n",
      "Successfully installed python-crfsuite-0.9.10 sklearn_crfsuite-0.3.6 tabulate-0.9.0\n"
     ]
    }
   ],
   "source": [
    "!pip install sklearn_crfsuite"
   ]
  },
  {
   "cell_type": "code",
   "execution_count": 2,
   "metadata": {},
   "outputs": [],
   "source": [
    "import nltk, re, pprint\n",
    "import numpy as np\n",
    "import pandas as pd\n",
    "import pprint, time\n",
    "import random\n",
    "from sklearn.model_selection import train_test_split\n",
    "from nltk.tokenize import word_tokenize\n",
    "import sklearn\n",
    "\n",
    "import sklearn_crfsuite\n",
    "from sklearn import metrics\n",
    "from sklearn_crfsuite import scorers\n",
    "from sklearn.model_selection import GridSearchCV\n",
    "\n",
    "import matplotlib.pyplot as plt"
   ]
  },
  {
   "cell_type": "code",
   "execution_count": 5,
   "metadata": {},
   "outputs": [
    {
     "name": "stderr",
     "output_type": "stream",
     "text": [
      "[nltk_data] Downloading package brown to\n",
      "[nltk_data]     C:\\Users\\KIIT0001\\AppData\\Roaming\\nltk_data...\n",
      "[nltk_data]   Package brown is already up-to-date!\n",
      "[nltk_data] Downloading package universal_tagset to\n",
      "[nltk_data]     C:\\Users\\KIIT0001\\AppData\\Roaming\\nltk_data...\n",
      "[nltk_data]   Unzipping taggers\\universal_tagset.zip.\n"
     ]
    }
   ],
   "source": [
    "nltk.download('brown')\n",
    "nltk.download('universal_tagset')\n",
    "nltk_data = list(nltk.corpus.brown.tagged_sents(tagset='universal'))"
   ]
  },
  {
   "cell_type": "code",
   "execution_count": 6,
   "metadata": {},
   "outputs": [
    {
     "name": "stdout",
     "output_type": "stream",
     "text": [
      "[('The', 'DET'), ('jury', 'NOUN'), ('further', 'ADV'), ('said', 'VERB'), ('in', 'ADP'), ('term-end', 'NOUN'), ('presentments', 'NOUN'), ('that', 'ADP'), ('the', 'DET'), ('City', 'NOUN'), ('Executive', 'ADJ'), ('Committee', 'NOUN'), (',', '.'), ('which', 'DET'), ('had', 'VERB'), ('over-all', 'ADJ'), ('charge', 'NOUN'), ('of', 'ADP'), ('the', 'DET'), ('election', 'NOUN'), (',', '.'), ('``', '.'), ('deserves', 'VERB'), ('the', 'DET'), ('praise', 'NOUN'), ('and', 'CONJ'), ('thanks', 'NOUN'), ('of', 'ADP'), ('the', 'DET'), ('City', 'NOUN'), ('of', 'ADP'), ('Atlanta', 'NOUN'), (\"''\", '.'), ('for', 'ADP'), ('the', 'DET'), ('manner', 'NOUN'), ('in', 'ADP'), ('which', 'DET'), ('the', 'DET'), ('election', 'NOUN'), ('was', 'VERB'), ('conducted', 'VERB'), ('.', '.')]\n",
      "57340\n"
     ]
    }
   ],
   "source": [
    "print(nltk_data[1])\n",
    "print(len(nltk_data))"
   ]
  },
  {
   "cell_type": "code",
   "execution_count": 8,
   "metadata": {},
   "outputs": [],
   "source": [
    "train_set,test_set = train_test_split(nltk_data,train_size=0.85,test_size=0.15,random_state=101)\n",
    "train_set,val_set = train_test_split(nltk_data,train_size=0.80,test_size=0.20,random_state=101)"
   ]
  },
  {
   "cell_type": "code",
   "execution_count": 9,
   "metadata": {},
   "outputs": [],
   "source": [
    "def word_features(sent, i):\n",
    "    word = sent[i][0]\n",
    "    pos = sent[i][1]\n",
    "    \n",
    "    \n",
    "    if i==0:\n",
    "        prevword = '<START>'\n",
    "        prevpos = '<START>'\n",
    "    else:\n",
    "        prevword = sent[i-1][0]\n",
    "        prevpos = sent[i-1][1]\n",
    "        \n",
    "    \n",
    "    if i==0 or i==1:\n",
    "        prev2word = '<START>'\n",
    "        prev2pos = '<START>'\n",
    "    else:\n",
    "        prev2word = sent[i-2][0]\n",
    "        prev2pos = sent[i-2][1]\n",
    "    \n",
    "    \n",
    "    if i == len(sent)-1:\n",
    "        nextword = '<END>'\n",
    "        nextpos = '<END>'\n",
    "    else:\n",
    "        nextword = sent[i+1][0]\n",
    "        nextpos = sent[i+1][1]\n",
    "    \n",
    "    \n",
    "    pref_1, pref_2, pref_3, pref_4 = word[:1], word[:2], word[:3], word[:4]\n",
    "    suff_1, suff_2, suff_3, suff_4 = word[-1:], word[-2:], word[-3:], word[-4:]\n",
    "    \n",
    "\n",
    "    \n",
    "    return {'word':word,            \n",
    "            'prevword': prevword,\n",
    "            'prevpos': prevpos,  \n",
    "            'nextword': nextword, \n",
    "            'nextpos': nextpos,          \n",
    "            'suff_1': suff_1,  \n",
    "            'suff_2': suff_2,  \n",
    "            'suff_3': suff_3,  \n",
    "            'suff_4': suff_4, \n",
    "            'pref_1': pref_1,  \n",
    "            'pref_2': pref_2,  \n",
    "            'pref_3': pref_3, \n",
    "            'pref_4': pref_4,\n",
    "            'prev2word': prev2word,\n",
    "            'prev2pos': prev2pos           \n",
    "           }  "
   ]
  },
  {
   "cell_type": "code",
   "execution_count": 10,
   "metadata": {},
   "outputs": [
    {
     "name": "stdout",
     "output_type": "stream",
     "text": [
      "[('A', 'DET'), ('Newfoundland', 'NOUN'), ('sat', 'VERB'), ('solemnly', 'ADV'), ('beside', 'ADP')]\n"
     ]
    },
    {
     "data": {
      "text/plain": [
       "{'word': 'solemnly',\n",
       " 'prevword': 'sat',\n",
       " 'prevpos': 'VERB',\n",
       " 'nextword': 'beside',\n",
       " 'nextpos': 'ADP',\n",
       " 'suff_1': 'y',\n",
       " 'suff_2': 'ly',\n",
       " 'suff_3': 'nly',\n",
       " 'suff_4': 'mnly',\n",
       " 'pref_1': 's',\n",
       " 'pref_2': 'so',\n",
       " 'pref_3': 'sol',\n",
       " 'pref_4': 'sole',\n",
       " 'prev2word': 'Newfoundland',\n",
       " 'prev2pos': 'NOUN'}"
      ]
     },
     "execution_count": 10,
     "metadata": {},
     "output_type": "execute_result"
    }
   ],
   "source": [
    "print(train_set[0][0:5])\n",
    "\n",
    "word_features(train_set[0],3)"
   ]
  },
  {
   "cell_type": "code",
   "execution_count": 16,
   "metadata": {},
   "outputs": [],
   "source": [
    "def sent2features(sent):\n",
    "    return[word_features(sent,i)for i in range(len(sent))]\n",
    "def sent2labels(sent):\n",
    "    return[postag for word,postag in sent]\n",
    "def sent2tokens(sent):\n",
    "    return[word for word,postag in sent]\n"
   ]
  },
  {
   "cell_type": "code",
   "execution_count": 17,
   "metadata": {},
   "outputs": [],
   "source": [
    " \n",
    "X_train = [sent2features(s) for s in train_set]\n",
    "y_train = [sent2labels(s) for s in train_set]\n",
    "\n",
    "X_valid = [sent2features(s) for s in val_set]\n",
    "y_valid = [sent2labels(s) for s in val_set]\n",
    "\n",
    "X_test = [sent2features(s) for s in test_set]\n",
    "y_test = [sent2labels(s) for s in test_set]\n"
   ]
  },
  {
   "cell_type": "code",
   "execution_count": 18,
   "metadata": {},
   "outputs": [
    {
     "name": "stdout",
     "output_type": "stream",
     "text": [
      "[{'word': 'A', 'prevword': '<START>', 'prevpos': '<START>', 'nextword': 'Newfoundland', 'nextpos': 'NOUN', 'suff_1': 'A', 'suff_2': 'A', 'suff_3': 'A', 'suff_4': 'A', 'pref_1': 'A', 'pref_2': 'A', 'pref_3': 'A', 'pref_4': 'A', 'prev2word': '<START>', 'prev2pos': '<START>'}, {'word': 'Newfoundland', 'prevword': 'A', 'prevpos': 'DET', 'nextword': 'sat', 'nextpos': 'VERB', 'suff_1': 'd', 'suff_2': 'nd', 'suff_3': 'and', 'suff_4': 'land', 'pref_1': 'N', 'pref_2': 'Ne', 'pref_3': 'New', 'pref_4': 'Newf', 'prev2word': '<START>', 'prev2pos': '<START>'}, {'word': 'sat', 'prevword': 'Newfoundland', 'prevpos': 'NOUN', 'nextword': 'solemnly', 'nextpos': 'ADV', 'suff_1': 't', 'suff_2': 'at', 'suff_3': 'sat', 'suff_4': 'sat', 'pref_1': 's', 'pref_2': 'sa', 'pref_3': 'sat', 'pref_4': 'sat', 'prev2word': 'A', 'prev2pos': 'DET'}, {'word': 'solemnly', 'prevword': 'sat', 'prevpos': 'VERB', 'nextword': 'beside', 'nextpos': 'ADP', 'suff_1': 'y', 'suff_2': 'ly', 'suff_3': 'nly', 'suff_4': 'mnly', 'pref_1': 's', 'pref_2': 'so', 'pref_3': 'sol', 'pref_4': 'sole', 'prev2word': 'Newfoundland', 'prev2pos': 'NOUN'}, {'word': 'beside', 'prevword': 'solemnly', 'prevpos': 'ADV', 'nextword': 'a', 'nextpos': 'DET', 'suff_1': 'e', 'suff_2': 'de', 'suff_3': 'ide', 'suff_4': 'side', 'pref_1': 'b', 'pref_2': 'be', 'pref_3': 'bes', 'pref_4': 'besi', 'prev2word': 'sat', 'prev2pos': 'VERB'}, {'word': 'a', 'prevword': 'beside', 'prevpos': 'ADP', 'nextword': 'doghouse', 'nextpos': 'NOUN', 'suff_1': 'a', 'suff_2': 'a', 'suff_3': 'a', 'suff_4': 'a', 'pref_1': 'a', 'pref_2': 'a', 'pref_3': 'a', 'pref_4': 'a', 'prev2word': 'solemnly', 'prev2pos': 'ADV'}, {'word': 'doghouse', 'prevword': 'a', 'prevpos': 'DET', 'nextword': 'half', 'nextpos': 'PRT', 'suff_1': 'e', 'suff_2': 'se', 'suff_3': 'use', 'suff_4': 'ouse', 'pref_1': 'd', 'pref_2': 'do', 'pref_3': 'dog', 'pref_4': 'dogh', 'prev2word': 'beside', 'prev2pos': 'ADP'}, {'word': 'half', 'prevword': 'doghouse', 'prevpos': 'NOUN', 'nextword': 'his', 'nextpos': 'DET', 'suff_1': 'f', 'suff_2': 'lf', 'suff_3': 'alf', 'suff_4': 'half', 'pref_1': 'h', 'pref_2': 'ha', 'pref_3': 'hal', 'pref_4': 'half', 'prev2word': 'a', 'prev2pos': 'DET'}, {'word': 'his', 'prevword': 'half', 'prevpos': 'PRT', 'nextword': 'size', 'nextpos': 'NOUN', 'suff_1': 's', 'suff_2': 'is', 'suff_3': 'his', 'suff_4': 'his', 'pref_1': 'h', 'pref_2': 'hi', 'pref_3': 'his', 'pref_4': 'his', 'prev2word': 'doghouse', 'prev2pos': 'NOUN'}, {'word': 'size', 'prevword': 'his', 'prevpos': 'DET', 'nextword': '.', 'nextpos': '.', 'suff_1': 'e', 'suff_2': 'ze', 'suff_3': 'ize', 'suff_4': 'size', 'pref_1': 's', 'pref_2': 'si', 'pref_3': 'siz', 'pref_4': 'size', 'prev2word': 'half', 'prev2pos': 'PRT'}]\n",
      "['DET', 'NOUN', 'VERB', 'ADV', 'ADP', 'DET', 'NOUN', 'PRT', 'DET', 'NOUN']\n"
     ]
    }
   ],
   "source": [
    "print(X_train[0][0:10])\n",
    "print(y_train[0][0:10])"
   ]
  },
  {
   "cell_type": "code",
   "execution_count": 19,
   "metadata": {},
   "outputs": [],
   "source": [
    "crf = sklearn_crfsuite.CRF(\n",
    "    algorithm='lbfgs',\n",
    "    c1=0.01,\n",
    "    c2=0.1,\n",
    "    max_iterations=100,\n",
    "    all_possible_transitions=True   \n",
    ")\n",
    "try:\n",
    "    crf.fit(X_train, y_train)\n",
    "except AttributeError:\n",
    "    pass"
   ]
  },
  {
   "cell_type": "code",
   "execution_count": 20,
   "metadata": {},
   "outputs": [],
   "source": [
    "labels = list(crf.classes_)"
   ]
  },
  {
   "cell_type": "code",
   "execution_count": 22,
   "metadata": {},
   "outputs": [
    {
     "data": {
      "text/plain": [
       "0.9815135950857892"
      ]
     },
     "execution_count": 22,
     "metadata": {},
     "output_type": "execute_result"
    }
   ],
   "source": [
    "y_pred = crf.predict(X_valid)\n",
    "\n",
    "\n",
    "from sklearn_crfsuite import metrics as mt\n",
    "\n",
    "mt.flat_f1_score(y_valid, y_pred,average='weighted', labels=labels)\n",
    "                      "
   ]
  },
  {
   "cell_type": "code",
   "execution_count": 23,
   "metadata": {},
   "outputs": [
    {
     "name": "stdout",
     "output_type": "stream",
     "text": [
      "              precision    recall  f1-score   support\n",
      "\n",
      "           .      1.000     1.000     1.000     29701\n",
      "           X      0.953     0.813     0.878       300\n",
      "         ADJ      0.950     0.940     0.945     16852\n",
      "         ADP      0.981     0.985     0.983     29177\n",
      "         ADV      0.952     0.941     0.946     11383\n",
      "        VERB      0.983     0.983     0.983     37018\n",
      "         DET      0.994     0.996     0.995     27692\n",
      "        CONJ      0.995     0.997     0.996      7655\n",
      "        NOUN      0.979     0.984     0.982     55378\n",
      "        PRON      0.992     0.989     0.990     10032\n",
      "         PRT      0.954     0.951     0.952      6074\n",
      "         NUM      0.988     0.992     0.990      2838\n",
      "\n",
      "    accuracy                          0.982    234100\n",
      "   macro avg      0.977     0.964     0.970    234100\n",
      "weighted avg      0.982     0.982     0.982    234100\n",
      "\n"
     ]
    }
   ],
   "source": [
    "from sklearn_crfsuite.utils import flatten\n",
    "y_true_flat=flatten(y_valid)\n",
    "y_pred_flat=flatten(y_pred)\n",
    "sorted_labels=sorted(\n",
    "    labels,\n",
    "    key=lambda name:(name[1:],name[0])\n",
    ")\n",
    "print(metrics.classification_report(\n",
    "    y_true_flat, y_pred_flat, labels=sorted_labels, digits=3\n",
    "))"
   ]
  },
  {
   "cell_type": "code",
   "execution_count": null,
   "metadata": {},
   "outputs": [],
   "source": []
  }
 ],
 "metadata": {
  "kernelspec": {
   "display_name": "new_env",
   "language": "python",
   "name": "python3"
  },
  "language_info": {
   "codemirror_mode": {
    "name": "ipython",
    "version": 3
   },
   "file_extension": ".py",
   "mimetype": "text/x-python",
   "name": "python",
   "nbconvert_exporter": "python",
   "pygments_lexer": "ipython3",
   "version": "3.11.9"
  }
 },
 "nbformat": 4,
 "nbformat_minor": 2
}
